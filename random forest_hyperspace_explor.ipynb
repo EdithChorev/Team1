{
 "cells": [
  {
   "cell_type": "code",
   "execution_count": 85,
   "metadata": {},
   "outputs": [],
   "source": [
    "import numpy as np\n",
    "import pandas as pd\n",
    "from sklearn.ensemble import RandomForestRegressor\n",
    "from sklearn.datasets import make_classification\n",
    "import matplotlib.pyplot as plt\n",
    "\n",
    "\n",
    "%matplotlib inline"
   ]
  },
  {
   "cell_type": "code",
   "execution_count": 39,
   "metadata": {},
   "outputs": [],
   "source": [
    "def metric(preds, actuals):\n",
    "    preds = preds.reshape(-1)\n",
    "    actuals = actuals.reshape(-1)\n",
    "    assert preds.shape == actuals.shape\n",
    "    return 100 * np.linalg.norm((actuals - preds) / actuals) / np.sqrt(preds.shape[0])"
   ]
  },
  {
   "cell_type": "code",
   "execution_count": 62,
   "metadata": {},
   "outputs": [],
   "source": [
    "def run_forest(tree_num,depth,numfeatures):\n",
    "    test_err = []\n",
    "    train_err = []\n",
    "    ytrain = 'y_train{}.npy'\n",
    "    xtrain = 'X_train_{}.npy'\n",
    "    ytest = 'y_test_{}.npy'\n",
    "    xtest = 'X_test_{}.npy'\n",
    "    for i in range(3): \n",
    "\n",
    "        y_train = np.load(ytrain.format(i)).reshape(-1)\n",
    "        name = 'X_train_'+ str(i) + '.npy'\n",
    "        x_train = np.load(xtrain.format(i)).reshape(len(y_train),-1)\n",
    "        model = RandomForestRegressor(n_estimators=tree_num,max_features=numfeatures, bootstrap = False,\n",
    "                                   max_depth=depth)\n",
    "        model.fit(x_train, y_train)\n",
    "        y_test = np.load(ytest.format(i)).reshape(-1)\n",
    "        x_test = np.load(xtest.format(i)).reshape(len(y_test),-1)\n",
    "        y_hat = model.predict(x_test)\n",
    "        print(y_hat)\n",
    "        idx = y_test != 0\n",
    "        test_err.append(metric (y_test[idx],y_hat[idx]))\n",
    "        y_hat = model.predict(x_train)\n",
    "        idx = y_train != 0\n",
    "        train_err.append(metric (y_train[idx],y_hat[idx]))\n",
    "        \n",
    "   \n",
    "    return test_err,train_err, model"
   ]
  },
  {
   "cell_type": "code",
   "execution_count": 41,
   "metadata": {},
   "outputs": [
    {
     "name": "stdout",
     "output_type": "stream",
     "text": [
      "[ 4226.31029657 10591.19776513  4627.92506621 ...  9336.55203282\n",
      "  3957.3435108   3112.9943557 ]\n",
      "[9311.32789429 8652.81844717 4955.78471005 ... 4164.643232   6448.93621739\n",
      " 5389.38717622]\n",
      "[6656.22667524 6930.42435227 6776.4489819  ... 6052.8584268  8998.00751415\n",
      " 7052.6504017 ]\n"
     ]
    }
   ],
   "source": [
    "testerr,trainerr=run_forest(100,16,14)"
   ]
  },
  {
   "cell_type": "code",
   "execution_count": 44,
   "metadata": {},
   "outputs": [
    {
     "data": {
      "text/plain": [
       "[13.613340159577504, 13.435270860328085, 14.353581615424002]"
      ]
     },
     "execution_count": 44,
     "metadata": {},
     "output_type": "execute_result"
    }
   ],
   "source": [
    "testerr"
   ]
  },
  {
   "cell_type": "code",
   "execution_count": 45,
   "metadata": {},
   "outputs": [
    {
     "data": {
      "text/plain": [
       "[12.79722042760723, 13.160765933038968, 13.343593105136994]"
      ]
     },
     "execution_count": 45,
     "metadata": {},
     "output_type": "execute_result"
    }
   ],
   "source": [
    "trainerr\n"
   ]
  },
  {
   "cell_type": "markdown",
   "metadata": {},
   "source": [
    "### testing on num features revealed that under 100 trees and 10 depth 16 features was best"
   ]
  },
  {
   "cell_type": "code",
   "execution_count": null,
   "metadata": {},
   "outputs": [],
   "source": []
  },
  {
   "cell_type": "code",
   "execution_count": 51,
   "metadata": {},
   "outputs": [
    {
     "name": "stdout",
     "output_type": "stream",
     "text": [
      "[4598.04752163 9813.58778773 4706.98450864 ... 8975.33070778 5025.69545573\n",
      " 4288.23695556]\n",
      "[8490.03706375 8315.49398779 4723.41852462 ... 4591.68770435 6591.72272185\n",
      " 5415.33841861]\n",
      "[6067.68382675 7565.74420162 6203.30360707 ... 6458.10982843 8809.20633846\n",
      " 7885.30352215]\n",
      "[ 4236.32513058 10521.19501186  4632.79133613 ...  9377.70278126\n",
      "  4114.30518947  3516.30584996]\n",
      "[8955.1479239  8565.58056924 4794.78719287 ... 4262.99499867 6406.15053745\n",
      " 5308.27047092]\n",
      "[6392.84648544 7234.2063102  6359.93219369 ... 5921.36756296 8853.55732514\n",
      " 7348.69543305]\n",
      "[ 4209.27840592 10702.62770528  4665.34917648 ...  9563.17148488\n",
      "  4043.96836149  3153.77033539]\n",
      "[9251.1135357  8745.88575923 4884.55670782 ... 4176.05506766 6414.11833538\n",
      " 5364.09268452]\n",
      "[6513.15021562 6954.80934136 6613.52931671 ... 5945.52545561 8934.94549043\n",
      " 7042.12803289]\n",
      "[ 4260.04185353 10543.1224265   4619.42915649 ...  9477.14686209\n",
      "  4010.6049908   3090.17004604]\n",
      "[9351.60590113 8655.62293717 4904.85248803 ... 4130.95034553 6462.17772972\n",
      " 5522.17160872]\n",
      "[6793.03537474 6943.22758983 6840.18942971 ... 6044.23683822 9072.41598171\n",
      " 6961.08123017]\n"
     ]
    }
   ],
   "source": [
    "numfeatures=[4,8,12,16]\n",
    "testerr=[]\n",
    "trainerr=[]\n",
    "for num in numfeatures:\n",
    "    tester,trainer=run_forest(100,10,num)\n",
    "    testerr.append(np.mean(tester))\n",
    "    trainerr.append(np.mean(trainer))\n",
    "        "
   ]
  },
  {
   "cell_type": "code",
   "execution_count": 52,
   "metadata": {},
   "outputs": [
    {
     "data": {
      "text/plain": [
       "[18.58405755518362, 14.790968279584794, 13.900278705660313, 13.787394924403579]"
      ]
     },
     "execution_count": 52,
     "metadata": {},
     "output_type": "execute_result"
    }
   ],
   "source": [
    "testerr"
   ]
  },
  {
   "cell_type": "code",
   "execution_count": 54,
   "metadata": {},
   "outputs": [
    {
     "data": {
      "text/plain": [
       "[17.282034347507082, 13.912703450990554, 13.193055600081486, 13.10401265439984]"
      ]
     },
     "execution_count": 54,
     "metadata": {},
     "output_type": "execute_result"
    }
   ],
   "source": [
    "trainerr"
   ]
  },
  {
   "cell_type": "markdown",
   "metadata": {},
   "source": [
    "### exploring different depths with 100 trees and 16 features depth 18 so far best "
   ]
  },
  {
   "cell_type": "code",
   "execution_count": 59,
   "metadata": {},
   "outputs": [
    {
     "name": "stdout",
     "output_type": "stream",
     "text": [
      "[ 4087.89328652 10462.11125078  4131.30588966 ...  8152.22724666\n",
      "  3976.85492106  3209.63460887]\n",
      "[9344.60918426 8545.64814158 5334.10972226 ... 3909.44541939 6529.17305536\n",
      " 5493.34848981]\n",
      "[6346.85497745 7032.15626807 6633.57159597 ... 5819.05716709 9192.24626605\n",
      " 6928.36200977]\n",
      "[ 4047.70826065 10512.91096903  4069.6092125  ...  8096.415\n",
      "  3962.1180672   3171.44098195]\n",
      "[9706.57810944 8602.0587786  5392.82516212 ... 3877.97893637 6578.77108578\n",
      " 5653.80522462]\n",
      "[6521.58072467 6879.39278145 6728.84782432 ... 5814.39428163 9458.29837547\n",
      " 6784.0014885 ]\n",
      "[ 3997.57562277 10474.64235714  4030.94960654 ...  8165.905\n",
      "  3956.33187715  3191.9449504 ]\n",
      "[9750.18099684 8636.95622363 5489.35299357 ... 3925.02252829 6560.59650915\n",
      " 5754.26306391]\n",
      "[6690.46662641 6880.55920775 6721.27270826 ... 5719.2645272  9475.89475212\n",
      " 6801.26088152]\n"
     ]
    }
   ],
   "source": [
    "depth=[18,21,23]\n",
    "testerr=[]\n",
    "trainerr=[]\n",
    "for num in depth:\n",
    "    tester,trainer=run_forest(100,num,16)\n",
    "    testerr.append(np.mean(tester))\n",
    "    trainerr.append(np.mean(trainer))"
   ]
  },
  {
   "cell_type": "code",
   "execution_count": 57,
   "metadata": {},
   "outputs": [
    {
     "data": {
      "text/plain": [
       "[15.35691635057264, 13.10000536098284, 9.932953366927945, 6.531177646951118]"
      ]
     },
     "execution_count": 57,
     "metadata": {},
     "output_type": "execute_result"
    }
   ],
   "source": [
    "trainerr"
   ]
  },
  {
   "cell_type": "code",
   "execution_count": 58,
   "metadata": {},
   "outputs": [
    {
     "data": {
      "text/plain": [
       "[15.648941390612402, 13.782293539418943, 11.497759775955501, 9.529934635562435]"
      ]
     },
     "execution_count": 58,
     "metadata": {},
     "output_type": "execute_result"
    }
   ],
   "source": [
    "testerr"
   ]
  },
  {
   "cell_type": "code",
   "execution_count": 60,
   "metadata": {},
   "outputs": [
    {
     "data": {
      "text/plain": [
       "[4.598173150803049, 2.419134462202179, 1.427799179137715]"
      ]
     },
     "execution_count": 60,
     "metadata": {},
     "output_type": "execute_result"
    }
   ],
   "source": [
    "trainerr"
   ]
  },
  {
   "cell_type": "code",
   "execution_count": 61,
   "metadata": {},
   "outputs": [
    {
     "data": {
      "text/plain": [
       "[8.83344579246486, 8.469836878916103, 8.435498837034514]"
      ]
     },
     "execution_count": 61,
     "metadata": {},
     "output_type": "execute_result"
    }
   ],
   "source": [
    "testerr"
   ]
  },
  {
   "cell_type": "code",
   "execution_count": 68,
   "metadata": {},
   "outputs": [],
   "source": [
    "def plot_feature_importances(rf, cols, model_dir):\n",
    "    importances = pd.DataFrame()\n",
    "    importances.loc[:, 'importances'] = rf.feature_importances_\n",
    "    importances.loc[:, 'features'] = cols\n",
    "    importances.sort_values('importances', inplace=True)\n",
    "    f, a = plt.subplots()\n",
    "    importances.plot(ax=a, kind='bar', x='features', y='importances')\n",
    "    plt.gcf().subplots_adjust(bottom=0.3)\n",
    "    f.savefig(os.path.join(model_dir, 'importances.png'))"
   ]
  },
  {
   "cell_type": "code",
   "execution_count": 67,
   "metadata": {},
   "outputs": [
    {
     "name": "stdout",
     "output_type": "stream",
     "text": [
      "[ 4097.78248614 10529.08826312  4232.70936662 ...  8226.26238643\n",
      "  3961.84950918  3206.03895379]\n",
      "[9283.50581859 8571.8531394  5326.13107926 ... 3902.24247829 6533.03442814\n",
      " 5417.77897724]\n",
      "[6482.93567633 7031.3713635  6614.95107317 ... 5874.28690919 9193.98954532\n",
      " 6885.51321235]\n"
     ]
    },
    {
     "ename": "NameError",
     "evalue": "name 'pwd' is not defined",
     "output_type": "error",
     "traceback": [
      "\u001b[0;31m---------------------------------------------------------------------------\u001b[0m",
      "\u001b[0;31mNameError\u001b[0m                                 Traceback (most recent call last)",
      "\u001b[0;32m<ipython-input-67-524acd349c77>\u001b[0m in \u001b[0;36m<module>\u001b[0;34m\u001b[0m\n\u001b[1;32m      2\u001b[0m \u001b[0mtester\u001b[0m\u001b[0;34m,\u001b[0m\u001b[0mtrainer\u001b[0m\u001b[0;34m,\u001b[0m\u001b[0mmodel\u001b[0m \u001b[0;34m=\u001b[0m \u001b[0mrun_forest\u001b[0m\u001b[0;34m(\u001b[0m\u001b[0;36m100\u001b[0m\u001b[0;34m,\u001b[0m\u001b[0;36m18\u001b[0m\u001b[0;34m,\u001b[0m\u001b[0;36m16\u001b[0m\u001b[0;34m)\u001b[0m\u001b[0;34m\u001b[0m\u001b[0;34m\u001b[0m\u001b[0m\n\u001b[1;32m      3\u001b[0m \u001b[0;34m\u001b[0m\u001b[0m\n\u001b[0;32m----> 4\u001b[0;31m \u001b[0mplot_feature_importances\u001b[0m\u001b[0;34m(\u001b[0m\u001b[0mmodel\u001b[0m\u001b[0;34m,\u001b[0m \u001b[0mcols\u001b[0m\u001b[0;34m,\u001b[0m \u001b[0mpwd\u001b[0m\u001b[0;34m)\u001b[0m\u001b[0;34m\u001b[0m\u001b[0;34m\u001b[0m\u001b[0m\n\u001b[0m",
      "\u001b[0;31mNameError\u001b[0m: name 'pwd' is not defined"
     ]
    }
   ],
   "source": [
    "cols=pd.read_csv('columns.csv')\n",
    "cols=cols.iloc[:,1].to_list()\n",
    "tester,trainer,model = run_forest(100,18,16)\n",
    "\n",
    "plot_feature_importances(model, cols, os.getcwd())"
   ]
  },
  {
   "cell_type": "code",
   "execution_count": 99,
   "metadata": {},
   "outputs": [
    {
     "data": {
      "image/png": "[encoded data removed]",
      "text/plain": [
       "<Figure size 432x288 with 1 Axes>"
      ]
     },
     "metadata": {
      "needs_background": "light"
     },
     "output_type": "display_data"
    }
   ],
   "source": [
    "cols=cols.iloc[:,1].to_list()\n",
    "plot_feature_importances(model, cols, os.getcwd())\n"
   ]
  },
  {
   "cell_type": "code",
   "execution_count": 100,
   "metadata": {},
   "outputs": [
    {
     "data": {
      "text/plain": [
       "[4.598173150803049, 2.419134462202179, 1.427799179137715]"
      ]
     },
     "execution_count": 100,
     "metadata": {},
     "output_type": "execute_result"
    }
   ],
   "source": [
    "trainerr"
   ]
  },
  {
   "cell_type": "code",
   "execution_count": 102,
   "metadata": {},
   "outputs": [
    {
     "name": "stdout",
     "output_type": "stream",
     "text": [
      "[ 4120.06501177 10490.28411892  4222.36681875 ...  8132.26758586\n",
      "  3938.22689441  3190.37762843]\n",
      "[9420.57687912 8551.51857495 5348.07993349 ... 3904.73618079 6488.85361177\n",
      " 5406.57289968]\n",
      "[6503.62399565 7012.68479507 6611.89816127 ... 5881.51181808 9225.74702017\n",
      " 6926.31842578]\n"
     ]
    }
   ],
   "source": [
    "tester,trainer,model = run_forest(150,18,16)"
   ]
  },
  {
   "cell_type": "code",
   "execution_count": 103,
   "metadata": {},
   "outputs": [
    {
     "data": {
      "text/plain": [
       "[4.598173150803049, 2.419134462202179, 1.427799179137715]"
      ]
     },
     "execution_count": 103,
     "metadata": {},
     "output_type": "execute_result"
    }
   ],
   "source": [
    "trainerr"
   ]
  },
  {
   "cell_type": "code",
   "execution_count": 105,
   "metadata": {},
   "outputs": [
    {
     "data": {
      "text/plain": [
       "[8.83344579246486, 8.469836878916103, 8.435498837034514]"
      ]
     },
     "execution_count": 105,
     "metadata": {},
     "output_type": "execute_result"
    }
   ],
   "source": [
    "testerr"
   ]
  }
 ],
 "metadata": {
  "kernelspec": {
   "display_name": "Python 3",
   "language": "python",
   "name": "python3"
  },
  "language_info": {
   "codemirror_mode": {
    "name": "ipython",
    "version": 3
   },
   "file_extension": ".py",
   "mimetype": "text/x-python",
   "name": "python",
   "nbconvert_exporter": "python",
   "pygments_lexer": "ipython3",
   "version": "3.6.8"
  }
 },
 "nbformat": 4,
 "nbformat_minor": 2
}
