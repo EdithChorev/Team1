{
 "cells": [
  {
   "cell_type": "code",
   "execution_count": 1,
   "metadata": {},
   "outputs": [
    {
     "name": "stderr",
     "output_type": "stream",
     "text": [
      "/home/edith/anaconda3/lib/python3.6/site-packages/sklearn/ensemble/weight_boosting.py:29: DeprecationWarning: numpy.core.umath_tests is an internal NumPy module and should not be imported. It will be removed in a future NumPy release.\n",
      "  from numpy.core.umath_tests import inner1d\n"
     ]
    }
   ],
   "source": [
    "import numpy as np\n",
    "from sklearn.ensemble import RandomForestRegressor\n",
    "from sklearn.datasets import make_classification"
   ]
  },
  {
   "cell_type": "code",
   "execution_count": 39,
   "metadata": {},
   "outputs": [],
   "source": [
    "def metric(preds, actuals):\n",
    "    preds = preds.reshape(-1)\n",
    "    actuals = actuals.reshape(-1)\n",
    "    assert preds.shape == actuals.shape\n",
    "    return 100 * np.linalg.norm((actuals - preds) / actuals) / np.sqrt(preds.shape[0])"
   ]
  },
  {
   "cell_type": "code",
   "execution_count": 40,
   "metadata": {},
   "outputs": [],
   "source": [
    "def run_forest(tree_num,depth,numfeatures):\n",
    "    test_err = []\n",
    "    train_err = []\n",
    "    ytrain = 'y_train{}.npy'\n",
    "    xtrain = 'X_train_{}.npy'\n",
    "    ytest = 'y_test_{}.npy'\n",
    "    xtest = 'X_test_{}.npy'\n",
    "    for i in range(3): \n",
    "\n",
    "        y_train = np.load(ytrain.format(i)).reshape(-1)\n",
    "        name = 'X_train_'+ str(i) + '.npy'\n",
    "        x_train = np.load(xtrain.format(i)).reshape(len(y_train),-1)\n",
    "        model = RandomForestRegressor(n_estimators=tree_num,max_features=numfeatures, bootstrap = False,\n",
    "                                   max_depth=depth)\n",
    "        model.fit(x_train, y_train)\n",
    "        y_test = np.load(ytest.format(i)).reshape(-1)\n",
    "        x_test = np.load(xtest.format(i)).reshape(len(y_test),-1)\n",
    "        y_hat = model.predict(x_test)\n",
    "        print(y_hat)\n",
    "        idx = y_test != 0\n",
    "        test_err.append(metric (y_test[idx],y_hat[idx]))\n",
    "        y_hat = model.predict(x_train)\n",
    "        idx = y_train != 0\n",
    "        train_err.append(metric (y_train[idx],y_hat[idx]))\n",
    "        \n",
    "   \n",
    "    return test_err,train_err"
   ]
  },
  {
   "cell_type": "code",
   "execution_count": 41,
   "metadata": {},
   "outputs": [
    {
     "name": "stdout",
     "output_type": "stream",
     "text": [
      "[ 4226.31029657 10591.19776513  4627.92506621 ...  9336.55203282\n",
      "  3957.3435108   3112.9943557 ]\n",
      "[9311.32789429 8652.81844717 4955.78471005 ... 4164.643232   6448.93621739\n",
      " 5389.38717622]\n",
      "[6656.22667524 6930.42435227 6776.4489819  ... 6052.8584268  8998.00751415\n",
      " 7052.6504017 ]\n"
     ]
    }
   ],
   "source": [
    "testerr,trainerr=run_forest(100,16,14)"
   ]
  },
  {
   "cell_type": "code",
   "execution_count": 44,
   "metadata": {},
   "outputs": [
    {
     "data": {
      "text/plain": [
       "[13.613340159577504, 13.435270860328085, 14.353581615424002]"
      ]
     },
     "execution_count": 44,
     "metadata": {},
     "output_type": "execute_result"
    }
   ],
   "source": [
    "testerr"
   ]
  },
  {
   "cell_type": "code",
   "execution_count": 45,
   "metadata": {},
   "outputs": [
    {
     "data": {
      "text/plain": [
       "[12.79722042760723, 13.160765933038968, 13.343593105136994]"
      ]
     },
     "execution_count": 45,
     "metadata": {},
     "output_type": "execute_result"
    }
   ],
   "source": [
    "trainerr\n"
   ]
  },
  {
   "cell_type": "markdown",
   "metadata": {},
   "source": [
    "### testing on num features revealed that under 100 trees and 10 depth 16 features was best"
   ]
  },
  {
   "cell_type": "code",
   "execution_count": null,
   "metadata": {},
   "outputs": [],
   "source": []
  },
  {
   "cell_type": "code",
   "execution_count": 51,
   "metadata": {},
   "outputs": [
    {
     "name": "stdout",
     "output_type": "stream",
     "text": [
      "[4598.04752163 9813.58778773 4706.98450864 ... 8975.33070778 5025.69545573\n",
      " 4288.23695556]\n",
      "[8490.03706375 8315.49398779 4723.41852462 ... 4591.68770435 6591.72272185\n",
      " 5415.33841861]\n",
      "[6067.68382675 7565.74420162 6203.30360707 ... 6458.10982843 8809.20633846\n",
      " 7885.30352215]\n",
      "[ 4236.32513058 10521.19501186  4632.79133613 ...  9377.70278126\n",
      "  4114.30518947  3516.30584996]\n",
      "[8955.1479239  8565.58056924 4794.78719287 ... 4262.99499867 6406.15053745\n",
      " 5308.27047092]\n",
      "[6392.84648544 7234.2063102  6359.93219369 ... 5921.36756296 8853.55732514\n",
      " 7348.69543305]\n",
      "[ 4209.27840592 10702.62770528  4665.34917648 ...  9563.17148488\n",
      "  4043.96836149  3153.77033539]\n",
      "[9251.1135357  8745.88575923 4884.55670782 ... 4176.05506766 6414.11833538\n",
      " 5364.09268452]\n",
      "[6513.15021562 6954.80934136 6613.52931671 ... 5945.52545561 8934.94549043\n",
      " 7042.12803289]\n",
      "[ 4260.04185353 10543.1224265   4619.42915649 ...  9477.14686209\n",
      "  4010.6049908   3090.17004604]\n",
      "[9351.60590113 8655.62293717 4904.85248803 ... 4130.95034553 6462.17772972\n",
      " 5522.17160872]\n",
      "[6793.03537474 6943.22758983 6840.18942971 ... 6044.23683822 9072.41598171\n",
      " 6961.08123017]\n"
     ]
    }
   ],
   "source": [
    "numfeatures=[4,8,12,16]\n",
    "testerr=[]\n",
    "trainerr=[]\n",
    "for num in numfeatures:\n",
    "    tester,trainer=run_forest(100,10,num)\n",
    "    testerr.append(np.mean(tester))\n",
    "    trainerr.append(np.mean(trainer))\n",
    "        "
   ]
  },
  {
   "cell_type": "code",
   "execution_count": 52,
   "metadata": {},
   "outputs": [
    {
     "data": {
      "text/plain": [
       "[18.58405755518362, 14.790968279584794, 13.900278705660313, 13.787394924403579]"
      ]
     },
     "execution_count": 52,
     "metadata": {},
     "output_type": "execute_result"
    }
   ],
   "source": [
    "testerr"
   ]
  },
  {
   "cell_type": "code",
   "execution_count": 54,
   "metadata": {},
   "outputs": [
    {
     "data": {
      "text/plain": [
       "[17.282034347507082, 13.912703450990554, 13.193055600081486, 13.10401265439984]"
      ]
     },
     "execution_count": 54,
     "metadata": {},
     "output_type": "execute_result"
    }
   ],
   "source": [
    "trainerr"
   ]
  },
  {
   "cell_type": "markdown",
   "metadata": {},
   "source": [
    "### exploring different depths"
   ]
  },
  {
   "cell_type": "code",
   "execution_count": null,
   "metadata": {},
   "outputs": [
    {
     "name": "stdout",
     "output_type": "stream",
     "text": [
      "[ 4229.53969026 10538.04868614  4868.71887426 ...  9979.03898604\n",
      "  3952.26232358  3097.41731731]\n",
      "[9518.6707149  8930.5551288  4593.73918397 ... 4239.15132149 6249.68540135\n",
      " 5386.39786951]\n"
     ]
    }
   ],
   "source": [
    "depth=[7,10,13,16]\n",
    "testerr=[]\n",
    "trainerr=[]\n",
    "for num in depth:\n",
    "    tester,trainer=run_forest(100,num,16)\n",
    "    testerr.append(np.mean(tester))\n",
    "    trainerr.append(np.mean(trainer))"
   ]
  }
 ],
 "metadata": {
  "kernelspec": {
   "display_name": "Python 3",
   "language": "python",
   "name": "python3"
  },
  "language_info": {
   "codemirror_mode": {
    "name": "ipython",
    "version": 3
   },
   "file_extension": ".py",
   "mimetype": "text/x-python",
   "name": "python",
   "nbconvert_exporter": "python",
   "pygments_lexer": "ipython3",
   "version": "3.6.8"
  }
 },
 "nbformat": 4,
 "nbformat_minor": 2
}
