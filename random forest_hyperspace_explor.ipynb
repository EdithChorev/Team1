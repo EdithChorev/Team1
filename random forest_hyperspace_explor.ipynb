{
 "cells": [
  {
   "cell_type": "code",
   "execution_count": 1,
   "metadata": {},
   "outputs": [
    {
     "name": "stderr",
     "output_type": "stream",
     "text": [
      "/home/edith/anaconda3/lib/python3.6/site-packages/sklearn/ensemble/weight_boosting.py:29: DeprecationWarning: numpy.core.umath_tests is an internal NumPy module and should not be imported. It will be removed in a future NumPy release.\n",
      "  from numpy.core.umath_tests import inner1d\n"
     ]
    }
   ],
   "source": [
    "import numpy as np\n",
    "from sklearn.ensemble import RandomForestRegressor\n",
    "from sklearn.datasets import make_classification"
   ]
  },
  {
   "cell_type": "code",
   "execution_count": 39,
   "metadata": {},
   "outputs": [],
   "source": [
    "def metric(preds, actuals):\n",
    "    preds = preds.reshape(-1)\n",
    "    actuals = actuals.reshape(-1)\n",
    "    assert preds.shape == actuals.shape\n",
    "    return 100 * np.linalg.norm((actuals - preds) / actuals) / np.sqrt(preds.shape[0])"
   ]
  },
  {
   "cell_type": "code",
   "execution_count": 40,
   "metadata": {},
   "outputs": [],
   "source": [
    "def run_forest(tree_num,depth,numfeatures):\n",
    "    test_err = []\n",
    "    train_err = []\n",
    "    ytrain = 'y_train{}.npy'\n",
    "    xtrain = 'X_train_{}.npy'\n",
    "    ytest = 'y_test_{}.npy'\n",
    "    xtest = 'X_test_{}.npy'\n",
    "    for i in range(3): \n",
    "\n",
    "        y_train = np.load(ytrain.format(i)).reshape(-1)\n",
    "        name = 'X_train_'+ str(i) + '.npy'\n",
    "        x_train = np.load(xtrain.format(i)).reshape(len(y_train),-1)\n",
    "        model = RandomForestRegressor(n_estimators=tree_num,max_features=numfeatures, bootstrap = False,\n",
    "                                   max_depth=depth)\n",
    "        model.fit(x_train, y_train)\n",
    "        y_test = np.load(ytest.format(i)).reshape(-1)\n",
    "        x_test = np.load(xtest.format(i)).reshape(len(y_test),-1)\n",
    "        y_hat = model.predict(x_test)\n",
    "        print(y_hat)\n",
    "        idx = y_test != 0\n",
    "        test_err.append(metric (y_test[idx],y_hat[idx]))\n",
    "        y_hat = model.predict(x_train)\n",
    "        idx = y_train != 0\n",
    "        train_err.append(metric (y_train[idx],y_hat[idx]))\n",
    "        \n",
    "   \n",
    "    return test_err,train_err"
   ]
  },
  {
   "cell_type": "code",
   "execution_count": 41,
   "metadata": {},
   "outputs": [
    {
     "name": "stdout",
     "output_type": "stream",
     "text": [
      "[ 4226.31029657 10591.19776513  4627.92506621 ...  9336.55203282\n",
      "  3957.3435108   3112.9943557 ]\n",
      "[9311.32789429 8652.81844717 4955.78471005 ... 4164.643232   6448.93621739\n",
      " 5389.38717622]\n",
      "[6656.22667524 6930.42435227 6776.4489819  ... 6052.8584268  8998.00751415\n",
      " 7052.6504017 ]\n"
     ]
    }
   ],
   "source": [
    "testerr,trainerr=run_forest(100,10,14)"
   ]
  },
  {
   "cell_type": "code",
   "execution_count": 44,
   "metadata": {},
   "outputs": [
    {
     "data": {
      "text/plain": [
       "[13.613340159577504, 13.435270860328085, 14.353581615424002]"
      ]
     },
     "execution_count": 44,
     "metadata": {},
     "output_type": "execute_result"
    }
   ],
   "source": [
    "testerr"
   ]
  },
  {
   "cell_type": "code",
   "execution_count": 45,
   "metadata": {},
   "outputs": [
    {
     "data": {
      "text/plain": [
       "[12.79722042760723, 13.160765933038968, 13.343593105136994]"
      ]
     },
     "execution_count": 45,
     "metadata": {},
     "output_type": "execute_result"
    }
   ],
   "source": [
    "trainerr\n"
   ]
  },
  {
   "cell_type": "code",
   "execution_count": 47,
   "metadata": {},
   "outputs": [
    {
     "name": "stdout",
     "output_type": "stream",
     "text": [
      "[4608.6717638  9688.16080481 4757.30703408 ... 8940.23069317 5064.41481774\n",
      " 4130.78077769]\n",
      "[8304.81875174 8091.31710228 4856.64665876 ... 4559.5024785  6366.01916495\n",
      " 5436.41811305]\n",
      "[6063.27222308 7670.77685166 6258.07054104 ... 6176.51583033 8686.82882384\n",
      " 7906.11642563]\n"
     ]
    },
    {
     "ename": "AttributeError",
     "evalue": "'list' object has no attribute 'apend'",
     "output_type": "error",
     "traceback": [
      "\u001b[0;31m---------------------------------------------------------------------------\u001b[0m",
      "\u001b[0;31mAttributeError\u001b[0m                            Traceback (most recent call last)",
      "\u001b[0;32m<ipython-input-47-baa316ae8c5f>\u001b[0m in \u001b[0;36m<module>\u001b[0;34m\u001b[0m\n\u001b[1;32m      4\u001b[0m \u001b[0;32mfor\u001b[0m \u001b[0mnum\u001b[0m \u001b[0;32min\u001b[0m \u001b[0mnumfeatures\u001b[0m\u001b[0;34m:\u001b[0m\u001b[0;34m\u001b[0m\u001b[0;34m\u001b[0m\u001b[0m\n\u001b[1;32m      5\u001b[0m     \u001b[0mtester\u001b[0m\u001b[0;34m,\u001b[0m\u001b[0mtrainer\u001b[0m\u001b[0;34m=\u001b[0m\u001b[0mrun_forest\u001b[0m\u001b[0;34m(\u001b[0m\u001b[0;36m100\u001b[0m\u001b[0;34m,\u001b[0m\u001b[0;36m10\u001b[0m\u001b[0;34m,\u001b[0m\u001b[0mnum\u001b[0m\u001b[0;34m)\u001b[0m\u001b[0;34m\u001b[0m\u001b[0;34m\u001b[0m\u001b[0m\n\u001b[0;32m----> 6\u001b[0;31m     \u001b[0mtesterr\u001b[0m\u001b[0;34m.\u001b[0m\u001b[0mapend\u001b[0m\u001b[0;34m(\u001b[0m\u001b[0mnpmean\u001b[0m\u001b[0;34m(\u001b[0m\u001b[0mtester\u001b[0m\u001b[0;34m)\u001b[0m\u001b[0;34m)\u001b[0m\u001b[0;34m\u001b[0m\u001b[0;34m\u001b[0m\u001b[0m\n\u001b[0m\u001b[1;32m      7\u001b[0m     \u001b[0mtrainerr\u001b[0m\u001b[0;34m.\u001b[0m\u001b[0mappend\u001b[0m\u001b[0;34m(\u001b[0m\u001b[0mnpmean\u001b[0m\u001b[0;34m(\u001b[0m\u001b[0mtrainer\u001b[0m\u001b[0;34m)\u001b[0m\u001b[0;34m)\u001b[0m\u001b[0;34m\u001b[0m\u001b[0;34m\u001b[0m\u001b[0m\n\u001b[1;32m      8\u001b[0m \u001b[0;34m\u001b[0m\u001b[0m\n",
      "\u001b[0;31mAttributeError\u001b[0m: 'list' object has no attribute 'apend'"
     ]
    }
   ],
   "source": [
    "numfeatures=[4,8,12,16]\n",
    "testerr=[]\n",
    "trainerr=[]\n",
    "for num in numfeatures:\n",
    "    tester,trainer=run_forest(100,10,num)\n",
    "    testerr.apend(npmean(tester))\n",
    "    trainerr.append(npmean(trainer))\n",
    "        "
   ]
  }
 ],
 "metadata": {
  "kernelspec": {
   "display_name": "Python 3",
   "language": "python",
   "name": "python3"
  },
  "language_info": {
   "codemirror_mode": {
    "name": "ipython",
    "version": 3
   },
   "file_extension": ".py",
   "mimetype": "text/x-python",
   "name": "python",
   "nbconvert_exporter": "python",
   "pygments_lexer": "ipython3",
   "version": "3.6.8"
  }
 },
 "nbformat": 4,
 "nbformat_minor": 2
}
