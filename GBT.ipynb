{
 "cells": [
  {
   "cell_type": "code",
   "execution_count": 1,
   "metadata": {},
   "outputs": [],
   "source": [
    "import pandas as pd\n",
    "import numpy as np"
   ]
  },
  {
   "cell_type": "code",
   "execution_count": 2,
   "metadata": {},
   "outputs": [],
   "source": [
    "training_data = pd.read_csv('cleaned_training_set.csv')"
   ]
  },
  {
   "cell_type": "code",
   "execution_count": 3,
   "metadata": {},
   "outputs": [
    {
     "data": {
      "text/plain": [
       "(718637, 24)"
      ]
     },
     "execution_count": 3,
     "metadata": {},
     "output_type": "execute_result"
    }
   ],
   "source": [
    "training_data.shape"
   ]
  },
  {
   "cell_type": "code",
   "execution_count": 4,
   "metadata": {},
   "outputs": [],
   "source": [
    "training_data.drop(\"Unnamed: 0\", axis=1, inplace=True)"
   ]
  },
  {
   "cell_type": "code",
   "execution_count": 5,
   "metadata": {},
   "outputs": [
    {
     "data": {
      "text/html": [
       "<div>\n",
       "<style scoped>\n",
       "    .dataframe tbody tr th:only-of-type {\n",
       "        vertical-align: middle;\n",
       "    }\n",
       "\n",
       "    .dataframe tbody tr th {\n",
       "        vertical-align: top;\n",
       "    }\n",
       "\n",
       "    .dataframe thead th {\n",
       "        text-align: right;\n",
       "    }\n",
       "</style>\n",
       "<table border=\"1\" class=\"dataframe\">\n",
       "  <thead>\n",
       "    <tr style=\"text-align: right;\">\n",
       "      <th></th>\n",
       "      <th>Store</th>\n",
       "      <th>DayOfWeek</th>\n",
       "      <th>day</th>\n",
       "      <th>month</th>\n",
       "      <th>year</th>\n",
       "      <th>Sales</th>\n",
       "      <th>Customers</th>\n",
       "      <th>Open</th>\n",
       "      <th>Promo</th>\n",
       "      <th>SchoolHoliday</th>\n",
       "      <th>...</th>\n",
       "      <th>storeType_a</th>\n",
       "      <th>storeType_b</th>\n",
       "      <th>storeType_c</th>\n",
       "      <th>storeType_d</th>\n",
       "      <th>Assortment_a</th>\n",
       "      <th>Assortment_b</th>\n",
       "      <th>Assortment_c</th>\n",
       "      <th>public_holiday</th>\n",
       "      <th>easter</th>\n",
       "      <th>christmas</th>\n",
       "    </tr>\n",
       "  </thead>\n",
       "  <tbody>\n",
       "    <tr>\n",
       "      <th>0</th>\n",
       "      <td>1</td>\n",
       "      <td>5</td>\n",
       "      <td>31</td>\n",
       "      <td>7</td>\n",
       "      <td>2015</td>\n",
       "      <td>5263</td>\n",
       "      <td>555</td>\n",
       "      <td>1</td>\n",
       "      <td>1</td>\n",
       "      <td>1</td>\n",
       "      <td>...</td>\n",
       "      <td>0</td>\n",
       "      <td>0</td>\n",
       "      <td>1</td>\n",
       "      <td>0</td>\n",
       "      <td>1</td>\n",
       "      <td>0</td>\n",
       "      <td>0</td>\n",
       "      <td>0</td>\n",
       "      <td>0</td>\n",
       "      <td>0</td>\n",
       "    </tr>\n",
       "    <tr>\n",
       "      <th>1</th>\n",
       "      <td>2</td>\n",
       "      <td>5</td>\n",
       "      <td>31</td>\n",
       "      <td>7</td>\n",
       "      <td>2015</td>\n",
       "      <td>6064</td>\n",
       "      <td>625</td>\n",
       "      <td>1</td>\n",
       "      <td>1</td>\n",
       "      <td>1</td>\n",
       "      <td>...</td>\n",
       "      <td>1</td>\n",
       "      <td>0</td>\n",
       "      <td>0</td>\n",
       "      <td>0</td>\n",
       "      <td>1</td>\n",
       "      <td>0</td>\n",
       "      <td>0</td>\n",
       "      <td>0</td>\n",
       "      <td>0</td>\n",
       "      <td>0</td>\n",
       "    </tr>\n",
       "    <tr>\n",
       "      <th>2</th>\n",
       "      <td>3</td>\n",
       "      <td>5</td>\n",
       "      <td>31</td>\n",
       "      <td>7</td>\n",
       "      <td>2015</td>\n",
       "      <td>8314</td>\n",
       "      <td>821</td>\n",
       "      <td>1</td>\n",
       "      <td>1</td>\n",
       "      <td>1</td>\n",
       "      <td>...</td>\n",
       "      <td>1</td>\n",
       "      <td>0</td>\n",
       "      <td>0</td>\n",
       "      <td>0</td>\n",
       "      <td>1</td>\n",
       "      <td>0</td>\n",
       "      <td>0</td>\n",
       "      <td>0</td>\n",
       "      <td>0</td>\n",
       "      <td>0</td>\n",
       "    </tr>\n",
       "    <tr>\n",
       "      <th>3</th>\n",
       "      <td>4</td>\n",
       "      <td>5</td>\n",
       "      <td>31</td>\n",
       "      <td>7</td>\n",
       "      <td>2015</td>\n",
       "      <td>13995</td>\n",
       "      <td>1498</td>\n",
       "      <td>1</td>\n",
       "      <td>1</td>\n",
       "      <td>1</td>\n",
       "      <td>...</td>\n",
       "      <td>0</td>\n",
       "      <td>0</td>\n",
       "      <td>1</td>\n",
       "      <td>0</td>\n",
       "      <td>0</td>\n",
       "      <td>0</td>\n",
       "      <td>1</td>\n",
       "      <td>0</td>\n",
       "      <td>0</td>\n",
       "      <td>0</td>\n",
       "    </tr>\n",
       "    <tr>\n",
       "      <th>4</th>\n",
       "      <td>5</td>\n",
       "      <td>5</td>\n",
       "      <td>31</td>\n",
       "      <td>7</td>\n",
       "      <td>2015</td>\n",
       "      <td>4822</td>\n",
       "      <td>559</td>\n",
       "      <td>1</td>\n",
       "      <td>1</td>\n",
       "      <td>1</td>\n",
       "      <td>...</td>\n",
       "      <td>1</td>\n",
       "      <td>0</td>\n",
       "      <td>0</td>\n",
       "      <td>0</td>\n",
       "      <td>1</td>\n",
       "      <td>0</td>\n",
       "      <td>0</td>\n",
       "      <td>0</td>\n",
       "      <td>0</td>\n",
       "      <td>0</td>\n",
       "    </tr>\n",
       "  </tbody>\n",
       "</table>\n",
       "<p>5 rows × 23 columns</p>\n",
       "</div>"
      ],
      "text/plain": [
       "   Store  DayOfWeek  day  month  year  Sales  Customers  Open  Promo  \\\n",
       "0      1          5   31      7  2015   5263        555     1      1   \n",
       "1      2          5   31      7  2015   6064        625     1      1   \n",
       "2      3          5   31      7  2015   8314        821     1      1   \n",
       "3      4          5   31      7  2015  13995       1498     1      1   \n",
       "4      5          5   31      7  2015   4822        559     1      1   \n",
       "\n",
       "   SchoolHoliday  ...  storeType_a  storeType_b  storeType_c  storeType_d  \\\n",
       "0              1  ...            0            0            1            0   \n",
       "1              1  ...            1            0            0            0   \n",
       "2              1  ...            1            0            0            0   \n",
       "3              1  ...            0            0            1            0   \n",
       "4              1  ...            1            0            0            0   \n",
       "\n",
       "   Assortment_a  Assortment_b  Assortment_c  public_holiday  easter  christmas  \n",
       "0             1             0             0               0       0          0  \n",
       "1             1             0             0               0       0          0  \n",
       "2             1             0             0               0       0          0  \n",
       "3             0             0             1               0       0          0  \n",
       "4             1             0             0               0       0          0  \n",
       "\n",
       "[5 rows x 23 columns]"
      ]
     },
     "execution_count": 5,
     "metadata": {},
     "output_type": "execute_result"
    }
   ],
   "source": [
    "training_data.head()"
   ]
  },
  {
   "cell_type": "code",
   "execution_count": 6,
   "metadata": {},
   "outputs": [],
   "source": [
    "from sklearn.metrics import mean_squared_error\n",
    "from sklearn.datasets import make_friedman1\n",
    "from sklearn.ensemble import GradientBoostingRegressor\n",
    "from sklearn.model_selection import GridSearchCV"
   ]
  },
  {
   "cell_type": "code",
   "execution_count": 7,
   "metadata": {},
   "outputs": [],
   "source": [
    "Y = training_data.Sales.to_frame()\n",
    "X = training_data\n",
    "X.drop('Sales',axis=1,inplace=True)\n",
    "X = X.to_numpy()\n",
    "Y = Y.to_numpy()"
   ]
  },
  {
   "cell_type": "code",
   "execution_count": 8,
   "metadata": {},
   "outputs": [
    {
     "name": "stdout",
     "output_type": "stream",
     "text": [
      "TRAIN: [     0      1      2 ... 179657 179658 179659] TEST: [179660 179661 179662 ... 359316 359317 359318]\n",
      "TRAIN: [     0      1      2 ... 359316 359317 359318] TEST: [359319 359320 359321 ... 538975 538976 538977]\n",
      "TRAIN: [     0      1      2 ... 538975 538976 538977] TEST: [538978 538979 538980 ... 718634 718635 718636]\n"
     ]
    }
   ],
   "source": [
    "from sklearn.model_selection import TimeSeriesSplit\n",
    "tscv = TimeSeriesSplit(n_splits=3) \n",
    "TimeSeriesSplit(max_train_size=None, n_splits=3)\n",
    "counter=0\n",
    "for train_index, test_index in tscv.split(X):\n",
    "    print(\"TRAIN:\", train_index, \"TEST:\", test_index)\n",
    "    X_train, X_test = X[train_index], X[test_index]\n",
    "    y_train, y_test = Y[train_index], Y[test_index]\n",
    "    name='X_train_'+str(counter)  \n",
    "    np.save(name, X_train)\n",
    "    name='X_test_'+str(counter) \n",
    "    np.save(name, X_test)\n",
    "    name='y_test_'+str(counter) \n",
    "    np.save(name, y_test)\n",
    "    name='y_train'+str(counter)  \n",
    "    np.save(name, y_train)\n",
    "    counter+=1"
   ]
  },
  {
   "cell_type": "code",
   "execution_count": 10,
   "metadata": {},
   "outputs": [
    {
     "name": "stderr",
     "output_type": "stream",
     "text": [
      "/Users/mackdelany/anaconda3/lib/python3.7/site-packages/sklearn/utils/validation.py:761: DataConversionWarning: A column-vector y was passed when a 1d array was expected. Please change the shape of y to (n_samples, ), for example using ravel().\n",
      "  y = column_or_1d(y, warn=True)\n"
     ]
    },
    {
     "name": "stdout",
     "output_type": "stream",
     "text": [
      "This is the MSE: 979663.8332600966\n"
     ]
    }
   ],
   "source": [
    "est = GradientBoostingRegressor(n_estimators=400, learning_rate=0.1, \\\n",
    "                                max_depth=2, random_state=0, loss='ls').fit(X_train, y_train)\n",
    "\n",
    "print('This is the MSE: ' + str(mean_squared_error(y_test, est.predict(X_test))))"
   ]
  },
  {
   "cell_type": "code",
   "execution_count": 18,
   "metadata": {
    "scrolled": true
   },
   "outputs": [
    {
     "data": {
      "text/plain": [
       "GradientBoostingRegressor(alpha=0.9, criterion='friedman_mse', init=None,\n",
       "             learning_rate=0.1, loss='ls', max_depth=1, max_features=None,\n",
       "             max_leaf_nodes=None, min_impurity_decrease=0.0,\n",
       "             min_impurity_split=None, min_samples_leaf=1,\n",
       "             min_samples_split=2, min_weight_fraction_leaf=0.0,\n",
       "             n_estimators=100, n_iter_no_change=None, presort='auto',\n",
       "             random_state=0, subsample=1.0, tol=0.0001,\n",
       "             validation_fraction=0.1, verbose=0, warm_start=False)"
      ]
     },
     "execution_count": 18,
     "metadata": {},
     "output_type": "execute_result"
    }
   ],
   "source": [
    "est"
   ]
  },
  {
   "cell_type": "code",
   "execution_count": 9,
   "metadata": {},
   "outputs": [],
   "source": [
    "def metric(preds, actuals):\n",
    "    preds = preds.reshape(-1)\n",
    "    actuals = actuals.reshape(-1)\n",
    "    assert preds.shape == actuals.shape\n",
    "    return 100 * np.linalg.norm((actuals - preds) / actuals) / np.sqrt(preds.shape[0])"
   ]
  },
  {
   "cell_type": "code",
   "execution_count": 11,
   "metadata": {},
   "outputs": [],
   "source": [
    "def run_GBT(n_estimators, learning_rate, max_depth, random_state, loss):\n",
    "    \n",
    "    test_err = []\n",
    "    train_err = []\n",
    "    \n",
    "    ytrain = 'y_train{}.npy'\n",
    "    xtrain = 'X_train_{}.npy'\n",
    "    ytest = 'y_test_{}.npy'\n",
    "    xtest = 'X_test_{}.npy'\n",
    "    \n",
    "    for i in range(3): \n",
    "\n",
    "        y_train = np.load(ytrain.format(i)).reshape(-1)\n",
    "        name = 'X_train_'+ str(i) + '.npy'\n",
    "        x_train = np.load(xtrain.format(i)).reshape(len(y_train),-1)\n",
    "        \n",
    "        model = GradientBoostingRegressor(n_estimators=n_estimators, learning_rate=learning_rate, \\\n",
    "                                max_depth=max_depth, random_state=random_state, loss=loss)\n",
    "              \n",
    "        model.fit(x_train, y_train)\n",
    "        y_test = np.load(ytest.format(i)).reshape(-1)\n",
    "        x_test = np.load(xtest.format(i)).reshape(len(y_test),-1)\n",
    "        y_hat = model.predict(x_test)\n",
    "        \n",
    "        print(y_hat)\n",
    "        idx = y_test != 0\n",
    "        test_err.append(metric (y_test[idx],y_hat[idx]))\n",
    "        y_hat = model.predict(x_train)\n",
    "        idx = y_train != 0\n",
    "        train_err.append(metric (y_train[idx],y_hat[idx]))\n",
    "        \n",
    "   \n",
    "    return test_err,train_err"
   ]
  },
  {
   "cell_type": "code",
   "execution_count": 18,
   "metadata": {},
   "outputs": [
    {
     "name": "stdout",
     "output_type": "stream",
     "text": [
      "[ 3749.26864256 10752.51008121  4319.47505261 ...  9881.18361201\n",
      "  4044.93337388  3192.14110707]\n",
      "[9023.07659477 8922.2953839  4812.74750037 ... 4148.57274423 6166.64379608\n",
      " 5315.02844941]\n",
      "[6396.25942203 7092.10561544 6795.68562515 ... 5938.65208787 8278.33826191\n",
      " 7109.3711632 ]\n"
     ]
    },
    {
     "data": {
      "text/plain": [
       "([14.029952606639222, 13.753533990527195, 14.859388329825666],\n",
       " [13.43220916767162, 13.698780274906122, 13.80652934415835])"
      ]
     },
     "execution_count": 18,
     "metadata": {},
     "output_type": "execute_result"
    }
   ],
   "source": [
    "run_GBT(n_estimators=400, learning_rate=0.1, max_depth=2, random_state=0, loss='ls')"
   ]
  },
  {
   "cell_type": "code",
   "execution_count": 4,
   "metadata": {},
   "outputs": [
    {
     "data": {
      "text/html": [
       "<div>\n",
       "<style scoped>\n",
       "    .dataframe tbody tr th:only-of-type {\n",
       "        vertical-align: middle;\n",
       "    }\n",
       "\n",
       "    .dataframe tbody tr th {\n",
       "        vertical-align: top;\n",
       "    }\n",
       "\n",
       "    .dataframe thead th {\n",
       "        text-align: right;\n",
       "    }\n",
       "</style>\n",
       "<table border=\"1\" class=\"dataframe\">\n",
       "  <thead>\n",
       "    <tr style=\"text-align: right;\">\n",
       "      <th></th>\n",
       "      <th>n_estimators</th>\n",
       "      <th>learning_rate</th>\n",
       "      <th>max_depth</th>\n",
       "    </tr>\n",
       "  </thead>\n",
       "  <tbody>\n",
       "  </tbody>\n",
       "</table>\n",
       "</div>"
      ],
      "text/plain": [
       "Empty DataFrame\n",
       "Columns: [n_estimators, learning_rate, max_depth]\n",
       "Index: []"
      ]
     },
     "execution_count": 4,
     "metadata": {},
     "output_type": "execute_result"
    }
   ],
   "source": [
    "results = pd.DataFrame(columns = ['n_estimators','learning_rate','max_depth',''])\n",
    "\n",
    "results"
   ]
  },
  {
   "cell_type": "code",
   "execution_count": null,
   "metadata": {},
   "outputs": [
    {
     "name": "stdout",
     "output_type": "stream",
     "text": [
      "Running GBT for...\n",
      "n_estimators: 10\n",
      "learning_rate:0.75\n",
      "max_depth:2\n",
      "[ 4098.33042049 10590.73036587  4919.3533836  ... 10372.79600456\n",
      "  4182.08392524  3961.63960982]\n",
      "[8827.2130647  9751.00843879 4577.71906816 ... 3249.97689724 5372.48620994\n",
      " 5645.14493884]\n",
      "[6427.02752943 7298.6420734  6427.02752943 ... 6398.65221922 9046.0991074\n",
      " 6398.65221922]\n",
      "Test Error:\n",
      "[17.247565076466156, 118.85820868958565, 18.222666862412304]\n",
      "Training Error\n",
      "[17.305973935341942, 17.58700788502257, 17.829561958820513]\n",
      "Running GBT for...\n",
      "n_estimators: 10\n",
      "learning_rate:0.75\n",
      "max_depth:3\n",
      "[ 3964.6807144  10728.28905329  4590.68959428 ...  8832.80415266\n",
      "  3571.72760249  3932.69892642]\n",
      "[9397.76468895 8390.41711971 4585.62093219 ... 3621.39356369 5337.61161959\n",
      " 5093.90274592]\n",
      "[6333.61734054 7028.66414256 6333.61734054 ... 5179.24594418 9036.49412618\n",
      " 6693.73559852]\n",
      "Test Error:\n",
      "[16.94772909318486, 16.840007290957555, 16.75480863546174]\n",
      "Training Error\n",
      "[16.749572929715903, 16.614644164934216, 18.182401588126726]\n",
      "Running GBT for...\n",
      "n_estimators: 10\n",
      "learning_rate:0.75\n",
      "max_depth:4\n",
      "[ 4391.92338776 10860.75864825  4914.75667938 ...  9735.99945916\n",
      "  3836.97884836  3295.14405003]\n",
      "[9389.39000564 9419.61073736 4889.64552388 ... 4038.00216154 5523.22404812\n",
      " 5203.28210678]\n",
      "[6694.83028402 6785.50621005 6499.05470871 ... 5725.37285732 8187.75461089\n",
      " 6577.38588572]\n",
      "Test Error:\n",
      "[15.53378009079862, 15.519072958203255, 16.27836917610434]\n",
      "Training Error\n",
      "[15.192412803740952, 15.183834268676119, 15.246365625481335]\n",
      "Running GBT for...\n",
      "n_estimators: 10\n",
      "learning_rate:0.2\n",
      "max_depth:2\n",
      "[ 5031.44817136 10603.61162954  5100.6358957  ...  8713.53309858\n",
      "  4550.68145735  4125.47174449]\n",
      "[9053.59507601 8202.06283982 5150.57249359 ... 5150.57249359 7055.94467485\n",
      " 5700.35657784]\n",
      "[6459.22179684 7873.83812186 6727.59576745 ... 6363.59689393 8522.71213094\n",
      " 7969.26269229]\n",
      "Test Error:\n",
      "[21.44450743065569, 21.695857717934004, 21.09441031108532]\n",
      "Training Error\n",
      "[21.21550578725012, 21.116722875614307, 21.148734588497703]\n",
      "Running GBT for...\n",
      "n_estimators: 10\n",
      "learning_rate:0.2\n",
      "max_depth:3\n",
      "[ 5018.55802293 10620.31006952  4839.6673765  ...  9651.70547443\n",
      "  4282.19176725  3824.5606392 ]\n",
      "[9090.69576254 8354.41723677 5076.24932819 ... 4958.53536427 6524.6064896\n",
      " 5812.20136514]\n",
      "[6473.58826847 7457.0544084  6752.22846757 ... 6218.83674375 8968.80830872\n",
      " 7685.61890566]\n",
      "Test Error:\n",
      "[18.71751054954663, 18.89772542834375, 18.730838626090318]\n",
      "Training Error\n",
      "[18.53741475283352, 18.41309513072841, 18.471052940226176]\n",
      "Running GBT for...\n",
      "n_estimators: 10\n",
      "learning_rate:0.2\n",
      "max_depth:4\n",
      "[ 4843.68065596 10554.40154606  5087.09884166 ... 10323.47974981\n",
      "  4279.50397877  3673.3756528 ]\n",
      "[8944.88159757 8722.7088008  5203.22694321 ... 4792.30949595 6515.04887235\n",
      " 5670.93215608]\n",
      "[6618.90411839 7432.17661281 6765.22523469 ... 6325.88567593 8558.63881656\n",
      " 7306.42561236]\n",
      "Test Error:\n",
      "[17.1226090560863, 17.28969510715933, 17.513747464517362]\n",
      "Training Error\n",
      "[16.826234345445165, 16.91586769874014, 16.997739890955227]\n",
      "Running GBT for...\n",
      "n_estimators: 10\n",
      "learning_rate:0.3\n",
      "max_depth:2\n",
      "[ 4774.49688755 10645.89422663  5302.25061341 ...  9089.65926859\n",
      "  4650.30111787  3869.34000688]\n",
      "[8991.94540798 8452.66668086 4901.10749569 ... 4673.82843093 6754.45987165\n",
      " 5569.66276257]\n",
      "[6589.17334213 7590.19839649 6985.5374649  ... 6221.24538151 8678.21341762\n",
      " 7622.52603323]\n",
      "Test Error:\n",
      "[19.394148809818418, 19.446859111069216, 19.19819121915622]\n",
      "Training Error\n",
      "[19.196562500769378, 19.03100468462402, 19.043268474086254]\n",
      "Running GBT for...\n",
      "n_estimators: 10\n",
      "learning_rate:0.3\n",
      "max_depth:3\n",
      "[ 4540.95112407 10567.84010222  4715.07085103 ...  9933.88026908\n",
      "  3977.14124274  3490.97497838]\n",
      "[8990.64780858 8455.2643055  5161.0153277  ... 4624.26973906 6220.80911382\n",
      " 5381.58931087]\n",
      "[6313.04032863 7191.02256835 6826.64666884 ... 6020.23321431 8718.57280406\n",
      " 7323.24540733]\n",
      "Test Error:\n",
      "[16.78992079688511, 16.946529476049456, 17.29030756721649]\n",
      "Training Error\n",
      "[16.600683685852765, 16.63411808155466, 16.745562779991676]\n",
      "Running GBT for...\n",
      "n_estimators: 10\n",
      "learning_rate:0.3\n",
      "max_depth:4\n",
      "[ 4302.69438905 10863.67777994  4754.09884166 ...  9850.01086523\n",
      "  3852.49298275  3548.69265611]\n",
      "[9300.49709569 8432.78668474 5051.30259985 ... 4544.87153324 6083.17783627\n",
      " 5366.55115213]\n",
      "[6381.11034422 7229.33934754 6662.84033382 ... 6308.01822093 8494.99442832\n",
      " 7268.43651233]\n",
      "Test Error:\n",
      "[15.612031312666964, 15.651636150951381, 16.148399092272296]\n",
      "Training Error\n",
      "[15.272561456658844, 15.439115582790238, 15.372661309021655]\n",
      "Running GBT for...\n",
      "n_estimators: 300\n",
      "learning_rate:0.75\n",
      "max_depth:2\n",
      "[ 3841.19164821 10491.73478119  3799.7291959  ...  9276.16421552\n",
      "  3725.21283562  3608.91897198]\n",
      "[8213.73985007 9429.86008033 5235.43257902 ... 3892.90133147 6136.67773306\n",
      " 5868.20170532]\n",
      "[6676.38617161 6635.35665165 6982.37794957 ... 6196.45855217 8388.00716893\n",
      " 7604.13503535]\n",
      "Test Error:\n",
      "[13.147306506963083, 17.890845748830362, 13.47681635059181]\n",
      "Training Error\n",
      "[14.276856894454523, 65.99195799463331, 14.438484769755076]\n",
      "Running GBT for...\n",
      "n_estimators: 300\n",
      "learning_rate:0.75\n",
      "max_depth:3\n",
      "[4043.17273281 9885.44676945 4164.73723065 ... 8203.27332363 4091.70739408\n",
      " 2984.8833016 ]\n",
      "[9573.61814312 9403.73598578 5497.51302068 ... 3832.74951167 6182.73707753\n",
      " 5732.94065281]\n"
     ]
    }
   ],
   "source": [
    "for n_estimators in [10, 300, 400]:\n",
    "    for learning_rate in [0.75, 0.2, 0.3]:\n",
    "        for max_depth in [2, 3, 4]:\n",
    "            print('Running GBT for...')\n",
    "            print('n_estimators: ' + str(n_estimators))\n",
    "            print('learning_rate:' + str(learning_rate))\n",
    "            print('max_depth:' + str (max_depth))\n",
    "            test_err,train_err = run_GBT(n_estimators, learning_rate, max_depth, random_state=0, loss='ls')\n",
    "            print('Test Error:')\n",
    "            print(test_err)\n",
    "            print('Training Error')\n",
    "            print(train_err)\n"
   ]
  },
  {
   "cell_type": "code",
   "execution_count": null,
   "metadata": {},
   "outputs": [],
   "source": [
    "## Took too long\n",
    "\n",
    "\n",
    "parameters = {\n",
    "    \"learning_rate\": [0.01, 0.025, 0.05, 0.075, 0.1, 0.15, 0.2],\n",
    "    \"min_samples_split\": np.linspace(0.1, 0.5, 12),\n",
    "    \"min_samples_leaf\": np.linspace(0.1, 0.5, 12),\n",
    "    \"max_depth\":[3,5,8],\n",
    "    \"max_features\":[\"log2\",\"sqrt\"],\n",
    "    \"criterion\": [\"friedman_mse\",  \"mae\"],\n",
    "    \"subsample\":[0.5, 0.618, 0.8, 0.85, 0.9, 0.95, 1.0],\n",
    "    \"n_estimators\":[10]\n",
    "    }\n",
    "\n",
    "clf = GridSearchCV(GradientBoostingRegressor(), parameters, cv=10, n_jobs=2)\n",
    "\n",
    "clf.fit(X_train, y_train)\n",
    "print(clf.score(X_train, y_train))\n",
    "print(clf.best_params_)\n"
   ]
  },
  {
   "cell_type": "code",
   "execution_count": null,
   "metadata": {},
   "outputs": [],
   "source": []
  }
 ],
 "metadata": {
  "kernelspec": {
   "display_name": "Python 3",
   "language": "python",
   "name": "python3"
  },
  "language_info": {
   "codemirror_mode": {
    "name": "ipython",
    "version": 3
   },
   "file_extension": ".py",
   "mimetype": "text/x-python",
   "name": "python",
   "nbconvert_exporter": "python",
   "pygments_lexer": "ipython3",
   "version": "3.7.1"
  }
 },
 "nbformat": 4,
 "nbformat_minor": 2
}
