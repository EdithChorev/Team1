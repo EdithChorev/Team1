{
 "cells": [
  {
   "cell_type": "markdown",
   "metadata": {},
   "source": [
    "# Rossman Sales Model Execution"
   ]
  },
  {
   "cell_type": "markdown",
   "metadata": {},
   "source": [
    "This notebook allows you to run predictive analysis on Rossman Store data in order to predict sales for any given store on any given day.\n",
    "\n",
    "You should already have a cleaned dataset from completing the `Cleaning and Feature Engineering` notebook. If you do not have this, please go back and complete that notebook before using this one.\n",
    "\n",
    "This notebook creates predictions using an ensemble of the following three models:\n",
    "\n",
    "* Random Forest\n",
    "* Multivariate Regression\n",
    "* Gradient Boosted Trees\n",
    "\n",
    "So, without further adieu, let's get to it!"
   ]
  },
  {
   "cell_type": "code",
   "execution_count": 84,
   "metadata": {},
   "outputs": [],
   "source": [
    "import numpy as np\n",
    "import pandas as pd"
   ]
  },
  {
   "cell_type": "markdown",
   "metadata": {},
   "source": [
    "First - let's load up the dataset you created using the `Cleaning and Feature Engineering` notebook. We'll refer to this dataset as `cleaned_rossman_data`."
   ]
  },
  {
   "cell_type": "code",
   "execution_count": 86,
   "metadata": {},
   "outputs": [],
   "source": [
    "cleaned_rossman_data = pd.read_csv('cleaned_rossman_test_data.csv')"
   ]
  },
  {
   "cell_type": "markdown",
   "metadata": {},
   "source": [
    "Next, we need to split this dataset into our X and Y sets:"
   ]
  },
  {
   "cell_type": "code",
   "execution_count": 87,
   "metadata": {},
   "outputs": [
    {
     "data": {
      "text/html": [
       "<div>\n",
       "<style scoped>\n",
       "    .dataframe tbody tr th:only-of-type {\n",
       "        vertical-align: middle;\n",
       "    }\n",
       "\n",
       "    .dataframe tbody tr th {\n",
       "        vertical-align: top;\n",
       "    }\n",
       "\n",
       "    .dataframe thead th {\n",
       "        text-align: right;\n",
       "    }\n",
       "</style>\n",
       "<table border=\"1\" class=\"dataframe\">\n",
       "  <thead>\n",
       "    <tr style=\"text-align: right;\">\n",
       "      <th></th>\n",
       "      <th>Unnamed: 0</th>\n",
       "      <th>Store</th>\n",
       "      <th>DayOfWeek</th>\n",
       "      <th>day</th>\n",
       "      <th>month</th>\n",
       "      <th>year</th>\n",
       "      <th>Sales</th>\n",
       "      <th>Customers</th>\n",
       "      <th>Open</th>\n",
       "      <th>Promo</th>\n",
       "      <th>...</th>\n",
       "      <th>storeType_a</th>\n",
       "      <th>storeType_b</th>\n",
       "      <th>storeType_c</th>\n",
       "      <th>storeType_d</th>\n",
       "      <th>Assortment_a</th>\n",
       "      <th>Assortment_b</th>\n",
       "      <th>Assortment_c</th>\n",
       "      <th>public_holiday</th>\n",
       "      <th>easter</th>\n",
       "      <th>christmas</th>\n",
       "    </tr>\n",
       "  </thead>\n",
       "  <tbody>\n",
       "    <tr>\n",
       "      <th>0</th>\n",
       "      <td>0</td>\n",
       "      <td>173</td>\n",
       "      <td>5</td>\n",
       "      <td>17</td>\n",
       "      <td>5</td>\n",
       "      <td>2013</td>\n",
       "      <td>9296</td>\n",
       "      <td>0.151387</td>\n",
       "      <td>1</td>\n",
       "      <td>1</td>\n",
       "      <td>...</td>\n",
       "      <td>1</td>\n",
       "      <td>0</td>\n",
       "      <td>0</td>\n",
       "      <td>0</td>\n",
       "      <td>1</td>\n",
       "      <td>0</td>\n",
       "      <td>0</td>\n",
       "      <td>0</td>\n",
       "      <td>0</td>\n",
       "      <td>0</td>\n",
       "    </tr>\n",
       "    <tr>\n",
       "      <th>1</th>\n",
       "      <td>1</td>\n",
       "      <td>174</td>\n",
       "      <td>5</td>\n",
       "      <td>17</td>\n",
       "      <td>5</td>\n",
       "      <td>2013</td>\n",
       "      <td>6701</td>\n",
       "      <td>0.067057</td>\n",
       "      <td>1</td>\n",
       "      <td>1</td>\n",
       "      <td>...</td>\n",
       "      <td>1</td>\n",
       "      <td>0</td>\n",
       "      <td>0</td>\n",
       "      <td>0</td>\n",
       "      <td>1</td>\n",
       "      <td>0</td>\n",
       "      <td>0</td>\n",
       "      <td>0</td>\n",
       "      <td>0</td>\n",
       "      <td>0</td>\n",
       "    </tr>\n",
       "    <tr>\n",
       "      <th>2</th>\n",
       "      <td>2</td>\n",
       "      <td>175</td>\n",
       "      <td>5</td>\n",
       "      <td>17</td>\n",
       "      <td>5</td>\n",
       "      <td>2013</td>\n",
       "      <td>6349</td>\n",
       "      <td>0.095620</td>\n",
       "      <td>1</td>\n",
       "      <td>1</td>\n",
       "      <td>...</td>\n",
       "      <td>0</td>\n",
       "      <td>0</td>\n",
       "      <td>1</td>\n",
       "      <td>0</td>\n",
       "      <td>1</td>\n",
       "      <td>0</td>\n",
       "      <td>0</td>\n",
       "      <td>0</td>\n",
       "      <td>0</td>\n",
       "      <td>0</td>\n",
       "    </tr>\n",
       "    <tr>\n",
       "      <th>3</th>\n",
       "      <td>3</td>\n",
       "      <td>176</td>\n",
       "      <td>5</td>\n",
       "      <td>17</td>\n",
       "      <td>5</td>\n",
       "      <td>2013</td>\n",
       "      <td>6171</td>\n",
       "      <td>0.090860</td>\n",
       "      <td>1</td>\n",
       "      <td>1</td>\n",
       "      <td>...</td>\n",
       "      <td>1</td>\n",
       "      <td>0</td>\n",
       "      <td>0</td>\n",
       "      <td>0</td>\n",
       "      <td>1</td>\n",
       "      <td>0</td>\n",
       "      <td>0</td>\n",
       "      <td>0</td>\n",
       "      <td>0</td>\n",
       "      <td>0</td>\n",
       "    </tr>\n",
       "    <tr>\n",
       "      <th>4</th>\n",
       "      <td>4</td>\n",
       "      <td>177</td>\n",
       "      <td>5</td>\n",
       "      <td>17</td>\n",
       "      <td>5</td>\n",
       "      <td>2013</td>\n",
       "      <td>4391</td>\n",
       "      <td>0.069777</td>\n",
       "      <td>1</td>\n",
       "      <td>1</td>\n",
       "      <td>...</td>\n",
       "      <td>1</td>\n",
       "      <td>0</td>\n",
       "      <td>0</td>\n",
       "      <td>0</td>\n",
       "      <td>1</td>\n",
       "      <td>0</td>\n",
       "      <td>0</td>\n",
       "      <td>0</td>\n",
       "      <td>0</td>\n",
       "      <td>0</td>\n",
       "    </tr>\n",
       "  </tbody>\n",
       "</table>\n",
       "<p>5 rows × 24 columns</p>\n",
       "</div>"
      ],
      "text/plain": [
       "   Unnamed: 0  Store  DayOfWeek  day  month  year  Sales  Customers  Open  \\\n",
       "0           0    173          5   17      5  2013   9296   0.151387     1   \n",
       "1           1    174          5   17      5  2013   6701   0.067057     1   \n",
       "2           2    175          5   17      5  2013   6349   0.095620     1   \n",
       "3           3    176          5   17      5  2013   6171   0.090860     1   \n",
       "4           4    177          5   17      5  2013   4391   0.069777     1   \n",
       "\n",
       "   Promo  ...  storeType_a  storeType_b  storeType_c  storeType_d  \\\n",
       "0      1  ...            1            0            0            0   \n",
       "1      1  ...            1            0            0            0   \n",
       "2      1  ...            0            0            1            0   \n",
       "3      1  ...            1            0            0            0   \n",
       "4      1  ...            1            0            0            0   \n",
       "\n",
       "   Assortment_a  Assortment_b  Assortment_c  public_holiday  easter  christmas  \n",
       "0             1             0             0               0       0          0  \n",
       "1             1             0             0               0       0          0  \n",
       "2             1             0             0               0       0          0  \n",
       "3             1             0             0               0       0          0  \n",
       "4             1             0             0               0       0          0  \n",
       "\n",
       "[5 rows x 24 columns]"
      ]
     },
     "execution_count": 87,
     "metadata": {},
     "output_type": "execute_result"
    }
   ],
   "source": [
    "cleaned_rossman_data.head()"
   ]
  },
  {
   "cell_type": "code",
   "execution_count": 88,
   "metadata": {},
   "outputs": [],
   "source": [
    "cleaned_rossman_data.drop(\"Unnamed: 0\", axis=1, inplace=True)\n",
    "Y = cleaned_rossman_data.Sales.to_frame()\n",
    "X = cleaned_rossman_data\n",
    "X.drop('Sales',axis=1,inplace=True)\n",
    "final_test_x = X.to_numpy()\n",
    "final_test_y = Y.to_numpy()"
   ]
  },
  {
   "cell_type": "markdown",
   "metadata": {},
   "source": [
    "We won't know if we do a good job unless we measure our results - so let's bring in our measuring stick:"
   ]
  },
  {
   "cell_type": "code",
   "execution_count": 89,
   "metadata": {},
   "outputs": [],
   "source": [
    "def metric(preds, actuals):\n",
    "    preds = preds.reshape(-1)\n",
    "    actuals = actuals.reshape(-1)\n",
    "    assert preds.shape == actuals.shape\n",
    "    return 100 * np.linalg.norm((actuals - preds) / actuals) / np.sqrt(preds.shape[0])"
   ]
  },
  {
   "cell_type": "markdown",
   "metadata": {},
   "source": [
    "Now, let's bring in the artillery. Time to load our models.\n",
    "\n",
    "Please note that the Random Forest model was too large to load to GitHub. As a result it is currently excluded from the reproducibility walkthrough."
   ]
  },
  {
   "cell_type": "code",
   "execution_count": 90,
   "metadata": {},
   "outputs": [
    {
     "name": "stderr",
     "output_type": "stream",
     "text": [
      "/Users/mackdelany/anaconda3/lib/python3.7/site-packages/sklearn/base.py:251: UserWarning: Trying to unpickle estimator LinearRegression from version 0.21.2 when using version 0.20.1. This might lead to breaking code or invalid results. Use at your own risk.\n",
      "  UserWarning)\n"
     ]
    }
   ],
   "source": [
    "import pickle\n",
    "\n",
    "#rossman_random_forest = pickle.load(open(filename, 'rb'))\n",
    "rossman_multivariate_regression = pickle.load(open('Models/multivar.pkl', 'rb'))\n",
    "rossman_gradient_boosted = pickle.load(open('Models/gradient_boosted_model.pkl', 'rb'))"
   ]
  },
  {
   "cell_type": "markdown",
   "metadata": {},
   "source": [
    "Let's make those predictions!"
   ]
  },
  {
   "cell_type": "code",
   "execution_count": 91,
   "metadata": {},
   "outputs": [],
   "source": [
    "#y_pred_random_forest = rossman_random_forest.predict(final_test_x)\n",
    "y_pred_multivariate_regression = rossman_multivariate_regression.predict(final_test_x)\n",
    "y_pred_gradient_boosted = rossman_gradient_boosted.predict(final_test_x)"
   ]
  },
  {
   "cell_type": "markdown",
   "metadata": {},
   "source": [
    "How did each model perform?"
   ]
  },
  {
   "cell_type": "code",
   "execution_count": 93,
   "metadata": {},
   "outputs": [
    {
     "name": "stdout",
     "output_type": "stream",
     "text": [
      "30.950647493179606\n",
      "28.47331573070836\n"
     ]
    }
   ],
   "source": [
    "#metric(y_pred_random_forest, final_test_y)\n",
    "print(metric(y_pred_multivariate_regression, final_test_y))\n",
    "print(metric(y_pred_gradient_boosted, final_test_y))"
   ]
  },
  {
   "cell_type": "markdown",
   "metadata": {},
   "source": [
    "Ok - so we have three Y hat prediction vectors. We are going to combine these with a weighted average:"
   ]
  },
  {
   "cell_type": "code",
   "execution_count": 115,
   "metadata": {},
   "outputs": [],
   "source": [
    "y_pred_final =  (0.3 * y_pred_multivariate_regression) + (0.7 * y_pred_gradient_boosted) #+ (0.3 * y_pred_random_forest)"
   ]
  },
  {
   "cell_type": "markdown",
   "metadata": {},
   "source": [
    "Annnnnd, how did we do:"
   ]
  },
  {
   "cell_type": "code",
   "execution_count": 116,
   "metadata": {},
   "outputs": [
    {
     "data": {
      "text/plain": [
       "27.8487071966977"
      ]
     },
     "execution_count": 116,
     "metadata": {},
     "output_type": "execute_result"
    }
   ],
   "source": [
    "metric(y_pred_final, final_test_y)"
   ]
  }
 ],
 "metadata": {
  "kernelspec": {
   "display_name": "Python 3",
   "language": "python",
   "name": "python3"
  },
  "language_info": {
   "codemirror_mode": {
    "name": "ipython",
    "version": 3
   },
   "file_extension": ".py",
   "mimetype": "text/x-python",
   "name": "python",
   "nbconvert_exporter": "python",
   "pygments_lexer": "ipython3",
   "version": "3.7.1"
  }
 },
 "nbformat": 4,
 "nbformat_minor": 2
}
