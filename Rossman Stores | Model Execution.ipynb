{
 "cells": [
  {
   "cell_type": "markdown",
   "metadata": {},
   "source": [
    "# Rossman Sales Model Execution"
   ]
  },
  {
   "cell_type": "markdown",
   "metadata": {},
   "source": [
    "This notebook allows you to run predictive analysis on Rossman Store data in order to predict sales for any given store on any given day.\n",
    "\n",
    "You should already have a cleaned dataset from completing the `Cleaning and Feature Engineering` notebook. If you do not have this, please go back and complete that notebook before using this one.\n",
    "\n",
    "This notebook creates predictions using an ensemble of the following three models:\n",
    "\n",
    "* Random Forest\n",
    "* Multivariate Regression\n",
    "* Gradient Boosted Trees\n",
    "\n",
    "So, without further adieu, let's get to it!"
   ]
  },
  {
   "cell_type": "code",
   "execution_count": 1,
   "metadata": {},
   "outputs": [],
   "source": [
    "import numpy as np\n",
    "import pandas as pd"
   ]
  },
  {
   "cell_type": "markdown",
   "metadata": {},
   "source": [
    "First - let's load up the dataset you created using the `Cleaning and Feature Engineering` notebook. We'll refer to this dataset as `cleaned_rossman_data`."
   ]
  },
  {
   "cell_type": "code",
   "execution_count": 3,
   "metadata": {},
   "outputs": [],
   "source": [
    "#cleaned_rossman_data = pd.read_csv(‘cleaned_rossman_data.csv’)"
   ]
  },
  {
   "cell_type": "markdown",
   "metadata": {},
   "source": [
    "Ok, let's bring in the artillery. Time to load our models."
   ]
  },
  {
   "cell_type": "code",
   "execution_count": 4,
   "metadata": {},
   "outputs": [],
   "source": [
    "# rossman_random_forest = joblib.load(filename)\n",
    "# rossman_multivariate_regression = joblib.load(filename)\n",
    "# rossman_gradient_boosted = joblib.load(filename)"
   ]
  },
  {
   "cell_type": "markdown",
   "metadata": {},
   "source": [
    "Next, we can use the ensemble function to operate our models on the data. The ensemble function will then aggregate the outputs to produce a weighted estimate for Rossman Store sales."
   ]
  },
  {
   "cell_type": "code",
   "execution_count": null,
   "metadata": {},
   "outputs": [],
   "source": []
  }
 ],
 "metadata": {
  "kernelspec": {
   "display_name": "Python 3",
   "language": "python",
   "name": "python3"
  },
  "language_info": {
   "codemirror_mode": {
    "name": "ipython",
    "version": 3
   },
   "file_extension": ".py",
   "mimetype": "text/x-python",
   "name": "python",
   "nbconvert_exporter": "python",
   "pygments_lexer": "ipython3",
   "version": "3.7.1"
  }
 },
 "nbformat": 4,
 "nbformat_minor": 2
}
