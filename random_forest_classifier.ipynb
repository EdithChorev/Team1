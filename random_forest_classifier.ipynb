{
 "cells": [
  {
   "cell_type": "code",
   "execution_count": 40,
   "metadata": {},
   "outputs": [],
   "source": [
    "import numpy as np\n",
    "from sklearn.ensemble import RandomForestRegressor\n",
    "from sklearn.datasets import make_classification"
   ]
  },
  {
   "cell_type": "code",
   "execution_count": 41,
   "metadata": {},
   "outputs": [],
   "source": [
    "from sklearn.metrics import precision_score, recall_score, roc_auc_score, roc_curve\n",
    "import matplotlib.pyplot as plt"
   ]
  },
  {
   "cell_type": "code",
   "execution_count": 42,
   "metadata": {},
   "outputs": [
    {
     "name": "stdout",
     "output_type": "stream",
     "text": [
      "[ 5019.15  6185.16  8841.68 ...  7125.55  7706.89 11664.97]\n",
      "[5138.77 6896.26 7759.16 ... 5467.7  8350.79 5485.42]\n",
      "[6710.6  4708.9  4044.31 ... 5765.4  9168.35 6763.72]\n"
     ]
    }
   ],
   "source": [
    "test_error=[]\n",
    "\n",
    "for i in range(3): \n",
    "    name='y_train'+str(i)+'.npy'\n",
    "    y_train = np.load(name).reshape(-1)\n",
    "    name='X_train_'+str(i) +'.npy'\n",
    "    x_train = np.load(name).reshape(len(y_train),-1)\n",
    "    model = RandomForestRegressor(n_estimators=100, bootstrap = False,\n",
    "                               max_features = 'sqrt')\n",
    "    model.fit(x_train, y_train)\n",
    "    name='y_test_'+str(i) +'.npy'\n",
    "    y_test = np.load(name).reshape(-1)\n",
    "    name='X_test_'+str(i) +'.npy'\n",
    "    x_test = np.load(name).reshape(len(y_test),-1)\n",
    "    y_hat=model.predict(x_test)\n",
    "    print(y_hat)\n",
    "    \n",
    "    error=(np.sum(((y_test[y_test!=0]-y_hat[y_test!=0])/y_test[y_test!=0])**2)/len(y_hat[y_test!=0]))**-2\n",
    "    test_error=[test_error,error]\n",
    "         "
   ]
  },
  {
   "cell_type": "code",
   "execution_count": 43,
   "metadata": {},
   "outputs": [
    {
     "data": {
      "text/plain": [
       "[[[[], 9000.559172618125], 26265.17822567658], 7947.266362018224]"
      ]
     },
     "execution_count": 43,
     "metadata": {},
     "output_type": "execute_result"
    }
   ],
   "source": [
    "test_error"
   ]
  },
  {
   "cell_type": "code",
   "execution_count": 44,
   "metadata": {},
   "outputs": [],
   "source": [
    "np.save('random_forest_regression_errors', test_error)"
   ]
  }
 ],
 "metadata": {
  "kernelspec": {
   "display_name": "Python 3",
   "language": "python",
   "name": "python3"
  },
  "language_info": {
   "codemirror_mode": {
    "name": "ipython",
    "version": 3
   },
   "file_extension": ".py",
   "mimetype": "text/x-python",
   "name": "python",
   "nbconvert_exporter": "python",
   "pygments_lexer": "ipython3",
   "version": "3.6.8"
  }
 },
 "nbformat": 4,
 "nbformat_minor": 2
}
