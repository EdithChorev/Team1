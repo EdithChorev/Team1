{
 "cells": [
  {
   "cell_type": "code",
   "execution_count": 1,
   "metadata": {},
   "outputs": [
    {
     "name": "stderr",
     "output_type": "stream",
     "text": [
      "/home/edith/anaconda3/lib/python3.6/site-packages/sklearn/ensemble/weight_boosting.py:29: DeprecationWarning: numpy.core.umath_tests is an internal NumPy module and should not be imported. It will be removed in a future NumPy release.\n",
      "  from numpy.core.umath_tests import inner1d\n"
     ]
    }
   ],
   "source": [
    "import numpy as np\n",
    "from sklearn.ensemble import RandomForestRegressor\n",
    "from sklearn.datasets import make_classification"
   ]
  },
  {
   "cell_type": "code",
   "execution_count": 2,
   "metadata": {},
   "outputs": [],
   "source": [
    "from sklearn.metrics import precision_score, recall_score, roc_auc_score, roc_curve\n",
    "import matplotlib.pyplot as plt"
   ]
  },
  {
   "cell_type": "code",
   "execution_count": 30,
   "metadata": {},
   "outputs": [
    {
     "name": "stdout",
     "output_type": "stream",
     "text": [
      "[ 6403.4  6417.2 10079.2 ...  7192.4  7137.  11336.6]\n",
      "[5484.6 5929.2 8230.  ... 5337.4 6320.  4964.8]\n",
      "[6604.  4531.2 6476.8 ... 6067.2 8018.4 7477.2]\n"
     ]
    }
   ],
   "source": [
    "test_error=[]\n",
    "\n",
    "for i in range(3): \n",
    "    name='y_train'+str(i)+'.npy'\n",
    "    y_train = np.load(name).reshape(-1)\n",
    "    name='X_train_'+str(i) +'.npy'\n",
    "    x_train = np.load(name).reshape(len(y_train),-1)\n",
    "    model = RandomForestRegressor(n_estimators=100, bootstrap = False,\n",
    "                               max_features = 'sqrt')\n",
    "    model.fit(x_train, y_train)\n",
    "    name='y_test_'+str(i) +'.npy'\n",
    "    y_test = np.load(name).reshape(-1)\n",
    "    name='X_test_'+str(i) +'.npy'\n",
    "    x_test = np.load(name).reshape(len(y_test),-1)\n",
    "    y_hat=model.predict(x_test)\n",
    "    print(y_hat)\n",
    "    \n",
    "    error=(np.sum(((y_test[y_test!=0]-y_hat[y_test!=0])/y_test[y_test!=0])**2)/len(y_hat[y_test!=0]))**-2\n",
    "    test_error=[test_error,error]\n",
    "         "
   ]
  },
  {
   "cell_type": "code",
   "execution_count": 31,
   "metadata": {},
   "outputs": [
    {
     "data": {
      "text/plain": [
       "[[[[], 596.1806384077207], 555.2418561897881], 405.9157964166307]"
      ]
     },
     "execution_count": 31,
     "metadata": {},
     "output_type": "execute_result"
    }
   ],
   "source": [
    "test_error"
   ]
  },
  {
   "cell_type": "code",
   "execution_count": 29,
   "metadata": {},
   "outputs": [
    {
     "data": {
      "text/plain": [
       "(288209, 10)"
      ]
     },
     "execution_count": 29,
     "metadata": {},
     "output_type": "execute_result"
    }
   ],
   "source": [
    "x_test.shape"
   ]
  }
 ],
 "metadata": {
  "kernelspec": {
   "display_name": "Python 3",
   "language": "python",
   "name": "python3"
  },
  "language_info": {
   "codemirror_mode": {
    "name": "ipython",
    "version": 3
   },
   "file_extension": ".py",
   "mimetype": "text/x-python",
   "name": "python",
   "nbconvert_exporter": "python",
   "pygments_lexer": "ipython3",
   "version": "3.6.8"
  }
 },
 "nbformat": 4,
 "nbformat_minor": 2
}
